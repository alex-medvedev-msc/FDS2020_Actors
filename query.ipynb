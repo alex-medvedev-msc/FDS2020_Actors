{
 "cells": [
  {
   "cell_type": "code",
   "execution_count": 2,
   "metadata": {},
   "outputs": [],
   "source": [
    "%load_ext autoreload\n",
    "%autoreload 2"
   ]
  },
  {
   "cell_type": "code",
   "execution_count": 32,
   "metadata": {},
   "outputs": [],
   "source": [
    "import model\n",
    "from data_utils.loader import Loader\n",
    "from model.deconfounder import Deconfounder\n",
    "from pyro.optim import Adam"
   ]
  },
  {
   "cell_type": "code",
   "execution_count": 161,
   "metadata": {},
   "outputs": [],
   "source": [
    "data_path = \"data/ohe_movies.csv\"\n",
    "loader = Loader(data_path)"
   ]
  },
  {
   "cell_type": "code",
   "execution_count": 163,
   "metadata": {},
   "outputs": [
    {
     "name": "stdout",
     "output_type": "stream",
     "text": [
      "torch.Size([2544, 129]) torch.Size([637, 129]) torch.Size([2544]) torch.Size([637])\n"
     ]
    }
   ],
   "source": [
    "X_train, X_test, y_train, y_test = loader.get_train_test()\n",
    "print(X_train.shape, X_test.shape, y_train.shape, y_test.shape)"
   ]
  },
  {
   "cell_type": "code",
   "execution_count": 221,
   "metadata": {},
   "outputs": [
    {
     "name": "stdout",
     "output_type": "stream",
     "text": [
      "Linear regression MSE: 1.8751, mean baseline mse: 1.9978\n"
     ]
    }
   ],
   "source": [
    "from sklearn.linear_model import LinearRegression\n",
    "from sklearn.metrics import mean_squared_error\n",
    "from sklearn.preprocessing import StandardScaler\n",
    "import numpy as np\n",
    "\n",
    "\n",
    "'''\n",
    "scaler = StandardScaler()\n",
    "y_train_t = scaler.fit_transform(y_train.numpy().reshape(-1, 1))\n",
    "y_test_t = scaler.transform(y_test.numpy().reshape(-1, 1))\n",
    "'''\n",
    "\n",
    "'''\n",
    "y_train_t = np.log1p(y_train.numpy())\n",
    "y_test_t = np.log1p(y_test.numpy())\n",
    "'''\n",
    "\n",
    "lr = LinearRegression()\n",
    "lr.fit(X_train.numpy(), y_train.numpy())\n",
    "y_pred = lr.predict(X_test.numpy())\n",
    "mse = mean_squared_error(y_test.numpy(), y_pred)\n",
    "\n",
    "y_mean = np.zeros(y_test.shape) + y_train.numpy().mean()\n",
    "mean_mse = mean_squared_error(y_test.numpy(), y_mean)\n",
    "print(f'Linear regression MSE: {mse:.4f}, mean baseline mse: {mean_mse:.4f}')\n",
    "\n",
    "#log_mse = mean_squared_error(np.log1p(y_test.numpy()), np.log1p(y_pred))\n",
    "#log_mean_mse = mean_squared_error(np.log1p(y_test.numpy()), np.log1p(y_mean))"
   ]
  },
  {
   "cell_type": "code",
   "execution_count": 252,
   "metadata": {},
   "outputs": [],
   "source": [
    "# linear conf\n",
    "step1_opt = Adam({\"lr\": 0.0005})\n",
    "step2_opt = Adam({\"lr\": 0.005})\n",
    "# seed def = 3493204\n",
    "deconfounder = Deconfounder(step1_opt, step2_opt, \n",
    "                            seed=5323,\n",
    "                            step1_iters=4000, step2_iters=1500)"
   ]
  },
  {
   "cell_type": "code",
   "execution_count": 258,
   "metadata": {},
   "outputs": [],
   "source": [
    "step1_opt = Adam({\"lr\": 0.0005})\n",
    "step2_opt = Adam({\"lr\": 0.005})\n",
    "# seed def = 3493204\n",
    "deconfounder = Deconfounder(step1_opt, step2_opt, \n",
    "                            seed=532312,\n",
    "                            step1_iters=4000, step2_iters=1500)"
   ]
  },
  {
   "cell_type": "code",
   "execution_count": null,
   "metadata": {
    "scrolled": true
   },
   "outputs": [
    {
     "name": "stdout",
     "output_type": "stream",
     "text": [
      "\n",
      " Training Z marginal and W parameter marginal...\n",
      "[iteration 0001] loss: 373.7842\n",
      "[iteration 0101] loss: 356.5781\n",
      "[iteration 0201] loss: 345.0149\n",
      "[iteration 0301] loss: 330.6187\n",
      "[iteration 0401] loss: 317.5551\n",
      "[iteration 0501] loss: 299.4474\n",
      "[iteration 0601] loss: 285.8005\n",
      "[iteration 0701] loss: 277.6500\n",
      "[iteration 0801] loss: 270.3279\n",
      "[iteration 0901] loss: 254.1775\n",
      "[iteration 1001] loss: 245.9535\n",
      "[iteration 1101] loss: 232.0205\n",
      "[iteration 1201] loss: 211.6004\n",
      "[iteration 1301] loss: 186.9110\n",
      "[iteration 1401] loss: 163.2103\n",
      "[iteration 1501] loss: 127.3414\n",
      "[iteration 1601] loss: 94.2169\n",
      "[iteration 1701] loss: 72.7074\n",
      "[iteration 1801] loss: 51.6712\n",
      "[iteration 1901] loss: 41.6336\n",
      "[iteration 2001] loss: 35.5446\n"
     ]
    }
   ],
   "source": [
    "step1_params, step2_params = deconfounder.train(X_train, y_train)"
   ]
  },
  {
   "cell_type": "code",
   "execution_count": 254,
   "metadata": {
    "scrolled": true
   },
   "outputs": [
    {
     "name": "stdout",
     "output_type": "stream",
     "text": [
      "\n",
      " Training Z marginal and W parameter marginal...\n",
      "[iteration 0001] loss: 408.9000\n",
      "[iteration 0101] loss: 344.3904\n",
      "[iteration 0201] loss: 299.2797\n",
      "[iteration 0301] loss: 247.8602\n",
      "[iteration 0401] loss: 195.5766\n",
      "[iteration 0501] loss: 169.1248\n",
      "[iteration 0601] loss: 124.2977\n",
      "[iteration 0701] loss: 102.3137\n",
      "[iteration 0801] loss: 84.2746\n",
      "[iteration 0901] loss: 70.4903\n",
      "[iteration 1001] loss: 55.9531\n",
      "[iteration 1101] loss: 47.4374\n",
      "[iteration 1201] loss: 42.3070\n",
      "[iteration 1301] loss: 37.0341\n",
      "[iteration 1401] loss: 37.5920\n",
      "[iteration 1501] loss: 30.2538\n",
      "[iteration 1601] loss: 28.0426\n",
      "[iteration 1701] loss: 28.2361\n",
      "[iteration 1801] loss: 27.0281\n",
      "[iteration 1901] loss: 25.0855\n",
      "[iteration 2001] loss: 24.5502\n",
      "[iteration 2101] loss: 24.1874\n",
      "[iteration 2201] loss: 23.4275\n",
      "[iteration 2301] loss: 22.0420\n",
      "[iteration 2401] loss: 22.7443\n",
      "[iteration 2501] loss: 22.3249\n",
      "[iteration 2601] loss: 22.1210\n",
      "[iteration 2701] loss: 21.1584\n",
      "[iteration 2801] loss: 20.9867\n",
      "[iteration 2901] loss: 21.1211\n",
      "[iteration 3001] loss: 21.3530\n",
      "[iteration 3101] loss: 20.1684\n",
      "[iteration 3201] loss: 21.1444\n",
      "[iteration 3301] loss: 21.1588\n",
      "[iteration 3401] loss: 20.7848\n",
      "[iteration 3501] loss: 19.9736\n",
      "[iteration 3601] loss: 20.4270\n",
      "[iteration 3701] loss: 19.8737\n",
      "[iteration 3801] loss: 19.9182\n",
      "[iteration 3901] loss: 20.3773\n",
      "Updating value of hypermeterqz_mean\n",
      "Updating value of hypermeterqz_stddv\n",
      "Updating value of hypermeterqw_mean\n",
      "Updating value of hypermeterqw_stddv\n"
     ]
    },
    {
     "data": {
      "text/plain": [
       "(637,)"
      ]
     },
     "execution_count": 254,
     "metadata": {},
     "output_type": "execute_result"
    }
   ],
   "source": [
    "#y_train_pred = deconfounder.do_predict(X_train)\n",
    "\n",
    "y_test_pred, test_params = deconfounder.do_predict(X_test)\n",
    "y_test_pred.shape"
   ]
  },
  {
   "cell_type": "code",
   "execution_count": 256,
   "metadata": {},
   "outputs": [
    {
     "data": {
      "text/plain": [
       "3.7400181272720987"
      ]
     },
     "execution_count": 256,
     "metadata": {},
     "output_type": "execute_result"
    }
   ],
   "source": [
    "test_mse = mean_squared_error(y_test_pred, y_test.numpy())\n",
    "test_mse"
   ]
  },
  {
   "cell_type": "code",
   "execution_count": 257,
   "metadata": {},
   "outputs": [
    {
     "name": "stdout",
     "output_type": "stream",
     "text": [
      "\n",
      " Training Z marginal and W parameter marginal...\n",
      "[iteration 0001] loss: 442.6118\n",
      "[iteration 0101] loss: 346.4260\n",
      "[iteration 0201] loss: 283.6953\n",
      "[iteration 0301] loss: 234.3771\n",
      "[iteration 0401] loss: 173.3411\n",
      "[iteration 0501] loss: 144.0910\n",
      "[iteration 0601] loss: 107.2706\n",
      "[iteration 0701] loss: 83.3440\n",
      "[iteration 0801] loss: 74.8472\n",
      "[iteration 0901] loss: 60.8635\n",
      "[iteration 1001] loss: 53.4750\n",
      "[iteration 1101] loss: 44.2212\n",
      "[iteration 1201] loss: 38.7329\n",
      "[iteration 1301] loss: 38.7154\n",
      "[iteration 1401] loss: 32.4643\n",
      "[iteration 1501] loss: 28.5246\n",
      "[iteration 1601] loss: 27.1067\n",
      "[iteration 1701] loss: 28.0701\n",
      "[iteration 1801] loss: 25.7870\n",
      "[iteration 1901] loss: 25.1365\n",
      "[iteration 2001] loss: 25.5476\n",
      "[iteration 2101] loss: 22.8494\n",
      "[iteration 2201] loss: 24.8845\n",
      "[iteration 2301] loss: 23.8407\n",
      "[iteration 2401] loss: 23.6732\n",
      "[iteration 2501] loss: 23.4872\n",
      "[iteration 2601] loss: 22.6621\n",
      "[iteration 2701] loss: 22.3990\n",
      "[iteration 2801] loss: 21.2847\n",
      "[iteration 2901] loss: 22.5259\n",
      "[iteration 3001] loss: 24.1950\n",
      "[iteration 3101] loss: 21.8327\n",
      "[iteration 3201] loss: 22.0654\n",
      "[iteration 3301] loss: 20.8648\n",
      "[iteration 3401] loss: 21.7438\n",
      "[iteration 3501] loss: 21.6510\n",
      "[iteration 3601] loss: 22.0939\n",
      "[iteration 3701] loss: 21.6341\n",
      "[iteration 3801] loss: 22.3042\n",
      "[iteration 3901] loss: 20.9919\n",
      "Updating value of hypermeterqz_mean\n",
      "Updating value of hypermeterqz_stddv\n",
      "Updating value of hypermeterqw_mean\n",
      "Updating value of hypermeterqw_stddv\n"
     ]
    },
    {
     "data": {
      "text/plain": [
       "10.821833785344644"
      ]
     },
     "execution_count": 257,
     "metadata": {},
     "output_type": "execute_result"
    }
   ],
   "source": [
    "y_cond_pred, test_params = deconfounder.cond_predict(X_test)\n",
    "mean_squared_error(y_cond_pred, y_test.numpy())"
   ]
  },
  {
   "cell_type": "code",
   "execution_count": 220,
   "metadata": {},
   "outputs": [
    {
     "data": {
      "text/plain": [
       "(17.842108, 16.698632555727613, 2.9332418)"
      ]
     },
     "execution_count": 220,
     "metadata": {},
     "output_type": "execute_result"
    }
   ],
   "source": [
    "y_test.numpy().mean(), y_test_pred.mean(), np.log1p(y_test.numpy()).mean()"
   ]
  },
  {
   "cell_type": "code",
   "execution_count": 213,
   "metadata": {},
   "outputs": [
    {
     "name": "stdout",
     "output_type": "stream",
     "text": [
      "tensor(1.7868, grad_fn=<AddBackward0>)\n",
      "torch.Size([637])\n",
      "tensor(inf, dtype=torch.float64, grad_fn=<MeanBackward0>) tensor(17.8421)\n"
     ]
    },
    {
     "data": {
      "text/plain": [
       "tensor([1.6260e+237, 3.2365e+116, 5.1935e+126,  7.5498e+86, 2.2144e+133,\n",
       "        9.3380e+244, 1.4581e+119, 3.1995e+144, 1.7227e+118, 1.6953e+187,\n",
       "        6.2023e+229, 3.8847e+174, 1.6048e+170, 1.8075e+140, 3.5742e+165,\n",
       "                inf, 1.4643e+210, 2.4524e+126,  7.4438e+89, 6.1682e+109,\n",
       "        1.6977e+152, 2.2428e+127,  1.0606e+97, 8.3090e+112, 3.1795e+120,\n",
       "        2.8491e+146,  1.1815e+99, 1.8629e+131,  2.3675e+82, 4.8126e+108,\n",
       "        1.1510e+105,  2.6436e+78, 7.6972e+130,  7.0151e+93, 5.1604e+173,\n",
       "        7.3023e+122,  8.6929e+98, 5.5848e+137, 7.3171e+104, 7.8438e+161,\n",
       "        9.8399e+259, 2.9327e+123, 1.2188e+132,  2.9130e+89,  7.8759e+92,\n",
       "        1.6856e+119, 1.5944e+105, 6.9432e+154, 3.4376e+138, 1.3141e+276,\n",
       "        4.5518e+156, 3.2208e+121,  4.5948e+98, 3.3557e+122, 4.1300e+171,\n",
       "        8.5265e+137, 6.3633e+147, 5.1670e+166, 1.5927e+121,  2.9160e+99,\n",
       "        1.2034e+117,  6.5639e+89,  1.3140e+66,  7.3979e+68, 5.8397e+158,\n",
       "        4.5837e+124, 3.9451e+149, 1.2577e+160, 4.0439e+111, 1.6221e+106,\n",
       "        2.1983e+157, 2.4542e+112,  6.1295e+92, 1.6844e+119, 1.0552e+100,\n",
       "         8.1957e+66, 3.2724e+120, 1.6591e+175, 1.6182e+125, 4.9468e+126,\n",
       "        1.8986e+201,  1.8330e+83,  1.1866e+93, 2.8850e+236, 1.4673e+110,\n",
       "        1.0057e+121, 3.2610e+145, 2.6596e+106, 1.0795e+117,  8.0126e+88,\n",
       "        9.7036e+117, 8.0524e+137, 6.8149e+123, 9.2470e+155, 2.5549e+129,\n",
       "        7.6913e+116, 3.4847e+194,  1.7417e+85, 5.1791e+262,  1.1608e+87,\n",
       "        5.0693e+124, 9.9800e+162,  5.4673e+92, 1.6822e+163, 2.8817e+111,\n",
       "         1.8908e+76,  3.3480e+94, 2.6516e+156, 1.5045e+131, 3.9286e+153,\n",
       "        1.7345e+266,  2.9443e+76, 9.2652e+110, 1.8189e+140, 1.2716e+141,\n",
       "        2.0375e+116,         inf, 2.1494e+207, 5.0667e+101, 3.7878e+109,\n",
       "        2.3070e+126, 7.8592e+104, 2.1469e+109,         inf, 2.1607e+155,\n",
       "        5.7293e+112, 1.9775e+135, 5.7240e+123, 6.9478e+128, 5.8988e+191,\n",
       "         3.3361e+81, 8.0325e+132, 5.5434e+116, 7.5338e+233, 7.9400e+242,\n",
       "        1.5720e+161, 3.5284e+246, 3.2746e+146,  1.3728e+90, 3.2999e+193,\n",
       "        1.4822e+167,  1.0287e+89,  3.4100e+90,  1.0652e+99,  1.7456e+82,\n",
       "        1.6234e+129, 2.7617e+136,  9.0994e+74, 5.7821e+203,         inf,\n",
       "        4.6702e+125, 9.1936e+194, 2.0921e+167, 1.6692e+128, 2.9081e+180,\n",
       "        4.7651e+163, 4.6089e+109, 4.4534e+102, 7.7652e+175,  2.4161e+91,\n",
       "        1.2423e+151,  1.4432e+83,  2.9829e+87, 5.3028e+247, 4.1275e+111,\n",
       "        1.0032e+101, 1.1049e+149, 1.1424e+207, 1.1032e+204, 3.9444e+134,\n",
       "        5.2707e+118, 5.3461e+109, 6.2925e+171, 2.3556e+211, 5.0106e+109,\n",
       "        9.1632e+148, 3.4088e+107, 2.2023e+117, 8.8658e+109, 3.6393e+108,\n",
       "        1.3924e+178, 6.6186e+211, 1.1213e+187, 4.7677e+127, 6.0756e+106,\n",
       "        7.4033e+187, 2.9900e+161, 4.1488e+207, 6.7530e+117,         inf,\n",
       "         1.2921e+91, 2.4531e+157, 6.2834e+251, 5.3301e+186, 1.0145e+249,\n",
       "                inf, 7.2164e+165, 6.1242e+128, 7.3915e+134, 7.2040e+125,\n",
       "        1.5277e+156,  3.8528e+85,  1.5771e+92, 1.8851e+153, 7.1753e+147,\n",
       "        1.4925e+119, 3.5055e+285, 4.4548e+128, 6.3522e+132,  2.5209e+93,\n",
       "         3.6024e+77,  2.2989e+98, 1.6914e+113, 7.8295e+106,  1.5280e+95,\n",
       "        1.4047e+167,  2.0016e+96, 7.9136e+307, 3.4092e+261, 4.4477e+148,\n",
       "        1.4123e+115, 6.0951e+149,  5.9896e+92, 8.0978e+124, 1.2658e+120,\n",
       "        7.9130e+124, 5.3047e+156, 2.5285e+141, 2.6461e+210, 8.9315e+100,\n",
       "        6.2406e+262,  1.3317e+85, 1.9134e+136,  5.3636e+84, 7.9349e+134,\n",
       "                inf, 2.7832e+129, 4.8972e+161, 9.2200e+175, 1.8590e+138,\n",
       "        2.0244e+122, 8.1509e+202, 9.3600e+108, 9.8735e+183, 3.4832e+114,\n",
       "        4.4479e+123,         inf, 1.9925e+118, 1.1946e+134, 3.0711e+123,\n",
       "        3.4666e+186, 3.1448e+104, 2.1104e+201,  6.2668e+82, 8.9644e+217,\n",
       "         4.5262e+72, 2.0603e+103, 4.1347e+127, 1.5621e+145, 1.7852e+237,\n",
       "        2.1456e+124, 2.1221e+106, 3.6572e+146, 4.0245e+214, 9.8520e+232,\n",
       "        2.3921e+119,  1.3290e+94, 2.4540e+266,  6.8163e+82, 5.6973e+121,\n",
       "         2.9509e+91, 3.3812e+219, 3.4425e+141, 8.1746e+239, 1.1576e+112,\n",
       "        2.6842e+282, 3.6903e+306, 6.3571e+117, 8.8830e+166, 4.2754e+158,\n",
       "        2.8342e+192, 1.7944e+139, 1.6021e+103, 6.1667e+120, 2.7340e+114,\n",
       "        2.2339e+131,         inf,  8.0743e+85, 9.9333e+282,  7.7490e+97,\n",
       "        5.9243e+128, 4.4276e+212, 1.2865e+123, 1.1247e+170, 2.2997e+128,\n",
       "        1.1395e+147,  2.0352e+79, 1.4392e+223, 7.4856e+100, 1.9456e+176,\n",
       "        1.5145e+140, 1.7767e+175,  2.0159e+94, 6.6852e+111,  4.2352e+93,\n",
       "        8.3899e+166, 1.6305e+157, 2.2469e+302, 2.5957e+100,  5.8147e+74,\n",
       "        8.1708e+109, 3.5998e+122, 1.8263e+188,  2.4949e+88, 3.9180e+157,\n",
       "         3.9787e+99,  4.1205e+94, 1.3347e+100,  3.6076e+74, 9.3145e+150,\n",
       "        4.0052e+154, 2.9394e+103, 4.5010e+184,         inf, 7.1600e+133,\n",
       "        7.2263e+192, 2.9760e+161, 2.1713e+115, 5.0534e+276, 1.4127e+165,\n",
       "        1.3763e+141,  1.5962e+93, 1.2829e+185, 4.3534e+106, 4.9219e+144,\n",
       "        8.1540e+127, 2.8466e+192, 2.0932e+130, 2.1249e+122, 1.3389e+135,\n",
       "        7.9194e+104, 1.1507e+134,  1.0750e+85, 1.3759e+165,         inf,\n",
       "        2.0879e+257, 7.5595e+100, 6.4869e+139, 2.6170e+156,  1.6042e+99,\n",
       "        9.2030e+173,         inf, 4.6432e+162, 4.2623e+101, 8.0475e+112,\n",
       "        1.2988e+259, 1.6215e+121, 2.6711e+182,  8.3089e+83, 1.3164e+165,\n",
       "        3.0315e+190, 1.1311e+121, 1.2362e+111, 3.0930e+159, 3.5603e+113,\n",
       "        1.7137e+132, 1.0126e+161, 2.6504e+170, 7.9385e+184, 2.4821e+157,\n",
       "        1.2647e+161, 7.5270e+236, 2.1224e+147,  1.8739e+80, 2.2961e+220,\n",
       "        4.3598e+109,  3.4408e+81, 5.7420e+115, 3.0925e+230, 5.4907e+121,\n",
       "        1.3966e+161,  1.7424e+98, 3.9889e+177, 8.2288e+141, 1.2513e+182,\n",
       "         1.4825e+90, 1.9353e+201, 6.7653e+135, 7.7337e+186,         inf,\n",
       "         7.5858e+97, 2.4545e+207, 1.9224e+141,  1.1793e+80, 1.2665e+225,\n",
       "         1.8846e+96, 3.6545e+165, 5.7686e+125, 2.0773e+172, 1.9780e+122,\n",
       "        2.6084e+135, 9.3607e+167, 1.3291e+174, 3.4318e+112, 5.3099e+117,\n",
       "        6.2755e+136, 1.9272e+120, 2.4197e+125, 1.4356e+296,  9.8762e+84,\n",
       "        4.3452e+236,         inf, 2.2807e+180, 7.1652e+206, 7.1635e+166,\n",
       "        5.4357e+113,  6.6416e+92, 5.0093e+217, 3.4162e+151, 5.1940e+144,\n",
       "        2.4518e+116, 3.0873e+133, 2.0130e+225, 9.0885e+162, 1.0581e+146,\n",
       "         1.2714e+81, 5.7034e+173, 4.0231e+110, 9.1092e+113, 5.3926e+287,\n",
       "        1.4703e+155, 8.2380e+163, 2.0773e+118, 4.1782e+133, 2.3986e+136,\n",
       "        1.2349e+208, 1.7463e+210, 2.4697e+118, 1.7155e+242, 8.6572e+234,\n",
       "        6.2130e+221, 2.3936e+171,  6.4760e+87,  9.3461e+86, 8.4278e+104,\n",
       "        3.8617e+126, 1.0284e+153,  4.0982e+86, 6.0355e+140,         inf,\n",
       "        5.9851e+275, 2.2670e+153, 4.5238e+180,  1.2725e+97, 6.4961e+136,\n",
       "        3.8269e+177, 1.0123e+216, 6.2545e+243, 1.0997e+300,  1.5601e+64,\n",
       "        1.7073e+101, 2.5579e+180, 7.0258e+173, 4.5008e+171, 2.2538e+156,\n",
       "        1.8606e+172, 2.4252e+105, 2.4841e+129, 2.1622e+135, 7.3800e+184,\n",
       "        2.2700e+107, 7.5797e+206,  5.1741e+90, 5.6814e+123, 2.0233e+210,\n",
       "        3.2059e+115, 2.0582e+110, 9.1813e+197, 1.5206e+123, 1.5260e+117,\n",
       "        3.8099e+112, 1.1091e+157, 2.7950e+223,         inf, 1.3123e+130,\n",
       "        1.1464e+119, 1.2582e+130, 3.4681e+276,         inf,  5.9487e+95,\n",
       "         1.4086e+91, 6.2404e+101, 1.7707e+246, 1.1796e+271, 1.5720e+153,\n",
       "        9.2180e+106, 1.9428e+125, 8.5708e+216, 2.9185e+120,  8.7096e+89,\n",
       "        8.8615e+195, 1.7069e+133, 4.4490e+138, 6.2073e+229, 7.5048e+135,\n",
       "        1.4413e+238, 5.5242e+258, 9.0191e+168, 4.7875e+104, 5.1300e+131,\n",
       "        5.6743e+136, 8.8691e+126, 1.5637e+139, 1.4599e+126, 1.7805e+176,\n",
       "        1.5765e+198,  3.5756e+81, 3.7926e+158, 2.4206e+218, 6.9268e+110,\n",
       "        2.4971e+240, 6.3106e+130, 5.9282e+133, 3.0297e+125,  4.7146e+81,\n",
       "        7.7581e+151, 2.7005e+218, 1.3158e+246,  1.7424e+69, 8.3674e+116,\n",
       "        5.5788e+118,  6.0288e+81, 6.9911e+126, 9.5011e+104,  2.2590e+90,\n",
       "                inf, 1.7764e+155, 9.7580e+218, 2.5139e+140, 1.7371e+144,\n",
       "        1.3704e+103, 5.2796e+152, 7.7118e+119, 6.9998e+150,  9.4357e+96,\n",
       "         6.3168e+91, 2.1353e+134, 8.7263e+111, 1.0552e+295,  3.2501e+93,\n",
       "         1.5010e+97, 1.5898e+211,         inf, 7.4370e+144,  2.1098e+96,\n",
       "        8.9535e+108, 2.1857e+134,  1.3318e+86,  1.4794e+96, 2.6536e+213,\n",
       "        5.5660e+189, 3.5615e+143,  3.5589e+71, 3.9619e+105, 1.1059e+115,\n",
       "         2.2178e+76, 8.7496e+213, 3.5540e+193, 7.6068e+171, 1.3954e+108,\n",
       "        2.3767e+144, 3.9482e+135, 1.3963e+153, 5.0490e+151, 2.5014e+300,\n",
       "         7.6015e+82, 3.4896e+133, 1.1489e+193, 1.1683e+173,  5.8351e+87,\n",
       "        6.3992e+157, 7.6113e+207, 2.1642e+130, 9.1116e+180, 1.4452e+101,\n",
       "        1.7137e+148, 1.4122e+168, 8.1093e+163, 1.3591e+122, 2.8474e+130,\n",
       "        4.0515e+108, 9.7654e+250, 7.3734e+107, 2.9653e+144, 1.1927e+117,\n",
       "        1.3179e+140, 2.0004e+129, 1.9927e+206, 2.3613e+147, 1.5518e+151,\n",
       "        8.2930e+166, 4.6224e+186, 1.7145e+238, 6.1179e+169, 2.1066e+189,\n",
       "        6.5284e+151, 1.7534e+174,  4.5623e+72, 5.2952e+103, 4.3847e+108,\n",
       "        4.6518e+175, 1.3823e+142, 2.8850e+164, 4.8317e+128, 4.2387e+226,\n",
       "        7.8302e+249, 1.2828e+141, 1.6963e+113, 4.9988e+184,         inf,\n",
       "        5.2188e+142, 1.9123e+129, 1.4103e+206, 1.3683e+122, 1.2549e+116,\n",
       "         3.8114e+72, 5.5655e+156, 2.9638e+299, 1.9312e+115, 1.6082e+207,\n",
       "         1.3762e+85, 2.4989e+136, 5.8964e+135, 1.6429e+112, 1.9582e+252,\n",
       "         1.5118e+90, 4.8052e+101], dtype=torch.float64, grad_fn=<ExpBackward>)"
      ]
     },
     "execution_count": 213,
     "metadata": {},
     "output_type": "execute_result"
    }
   ],
   "source": [
    "from pyro.distributions import LogNormal, Normal\n",
    "import torch\n",
    "\n",
    "\n",
    "sigma = pyro.sample('sigma', Normal(test_params['sigma_mean0'], test_params['sigma_std0']))\n",
    "sample_pred = pyro.sample('y', LogNormal(torch.tensor(y_test_pred), sigma))\n",
    "print(sigma)\n",
    "print(sample_pred.shape)\n",
    "print(sample_pred.mean(), y_test.mean())\n",
    "sample_pred"
   ]
  },
  {
   "cell_type": "code",
   "execution_count": 138,
   "metadata": {},
   "outputs": [
    {
     "data": {
      "image/png": "[encoded data removed]",
      "text/plain": [
       "<Figure size 1224x864 with 1 Axes>"
      ]
     },
     "metadata": {},
     "output_type": "display_data"
    },
    {
     "data": {
      "image/png": "[encoded data removed]",
      "text/plain": [
       "<Figure size 460.8x403.2 with 1 Axes>"
      ]
     },
     "metadata": {},
     "output_type": "display_data"
    },
    {
     "data": {
      "image/png": "[encoded data removed]",
      "text/plain": [
       "<Figure size 460.8x403.2 with 1 Axes>"
      ]
     },
     "metadata": {},
     "output_type": "display_data"
    }
   ],
   "source": [
    "import matplotlib.pyplot as plt\n",
    "%matplotlib inline\n",
    "\n",
    "import numpy as np\n",
    "\n",
    "from jupyterthemes import jtplot\n",
    "jtplot.style()\n",
    "\n",
    "plt.figure(figsize=(17, 12))\n",
    "plt.hist(y_train.numpy(), bins=20)\n",
    "plt.show()\n",
    "\n",
    "plt.hist(np.log1p(y_train.numpy()), bins=20)\n",
    "plt.show()\n",
    "\n",
    "plt.hist(predictor.detach().numpy(), bins=20)\n",
    "plt.show()"
   ]
  },
  {
   "cell_type": "code",
   "execution_count": 146,
   "metadata": {},
   "outputs": [
    {
     "data": {
      "text/plain": [
       "(16.082886050456594, 17.739586)"
      ]
     },
     "execution_count": 146,
     "metadata": {},
     "output_type": "execute_result"
    }
   ],
   "source": [
    "predictor.mean(), np.log1p(y_train.numpy()).mean()"
   ]
  },
  {
   "cell_type": "code",
   "execution_count": 147,
   "metadata": {},
   "outputs": [
    {
     "data": {
      "text/plain": [
       "4.771761697495997"
      ]
     },
     "execution_count": 147,
     "metadata": {},
     "output_type": "execute_result"
    }
   ],
   "source": [
    "mean_squared_error(predictor, np.log1p(y_train.numpy()))"
   ]
  },
  {
   "cell_type": "code",
   "execution_count": null,
   "metadata": {},
   "outputs": [],
   "source": []
  }
 ],
 "metadata": {
  "kernelspec": {
   "display_name": "Python 3",
   "language": "python",
   "name": "python3"
  },
  "language_info": {
   "codemirror_mode": {
    "name": "ipython",
    "version": 3
   },
   "file_extension": ".py",
   "mimetype": "text/x-python",
   "name": "python",
   "nbconvert_exporter": "python",
   "pygments_lexer": "ipython3",
   "version": "3.7.6"
  }
 },
 "nbformat": 4,
 "nbformat_minor": 4
}
